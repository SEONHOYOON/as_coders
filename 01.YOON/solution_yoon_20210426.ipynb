{
 "cells": [
  {
   "cell_type": "code",
   "execution_count": 3,
   "metadata": {},
   "outputs": [],
   "source": [
    "def alarm_time_print(time):\n",
    "    time_split=time.split(' ')\n",
    "    time_split[0]=int(time_split[0])\n",
    "    time_split[1]=int(time_split[1])\n",
    "    time_total=time_split[0]*60+time_split[1]-45\n",
    "    if time_total<45 :\n",
    "        time_hour=23\n",
    "        tmie_min=abs((time_split[0]*60+time_split[1]-45)%60)\n",
    "    else :\n",
    "        time_hour=int((time_split[0]*60+time_split[1]-45)/60)\n",
    "        time_min=(time_split[0]*60+time_split[1]-45)%60\n",
    "    if time_min==0:\n",
    "        time_min=str('00')\n",
    "    else:\n",
    "        time_min=str(time_min)\n",
    "    if time_hour==0 :\n",
    "        time_hour=str('00')\n",
    "    else :\n",
    "        time_hour=str(time_hour)\n",
    "    \n",
    "    print_time=time_hour+str(' ')+str(time_min)\n",
    "    return print_time"
   ]
  },
  {
   "cell_type": "code",
   "execution_count": 4,
   "metadata": {},
   "outputs": [
    {
     "data": {
      "text/plain": [
       "'9 15'"
      ]
     },
     "execution_count": 4,
     "metadata": {},
     "output_type": "execute_result"
    }
   ],
   "source": [
    "alarm_time_print('10 00')"
   ]
  },
  {
   "cell_type": "code",
   "execution_count": null,
   "metadata": {},
   "outputs": [],
   "source": []
  }
 ],
 "metadata": {
  "kernelspec": {
   "display_name": "Python 3",
   "language": "python",
   "name": "python3"
  },
  "language_info": {
   "codemirror_mode": {
    "name": "ipython",
    "version": 3
   },
   "file_extension": ".py",
   "mimetype": "text/x-python",
   "name": "python",
   "nbconvert_exporter": "python",
   "pygments_lexer": "ipython3",
   "version": "3.7.4"
  }
 },
 "nbformat": 4,
 "nbformat_minor": 2
}
